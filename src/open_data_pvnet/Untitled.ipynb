{
 "cells": [
  {
   "cell_type": "code",
   "execution_count": 8,
   "id": "eea0a990-97cd-4e82-8126-40d313af616c",
   "metadata": {},
   "outputs": [
    {
     "name": "stdout",
     "output_type": "stream",
     "text": [
      "Config file exists: True\n",
      "Absolute path: C:\\Users\\ywant\\Downloads\\open-data-pvnet-main\\open-data-pvnet-main\\src\\open_data_pvnet\\configs\\dwd_data_config.yaml\n"
     ]
    }
   ],
   "source": [
    "from pathlib import Path\n",
    "\n",
    "config_path = Path(\"configs/dwd_data_config.yaml\")\n",
    "print(\"Config file exists:\", config_path.exists())\n",
    "print(\"Absolute path:\", config_path.resolve())\n",
    "\n",
    "\n"
   ]
  },
  {
   "cell_type": "code",
   "execution_count": 10,
   "id": "7edd187b-5541-4ec9-93cf-fb692ba7c02c",
   "metadata": {
    "scrolled": true
   },
   "outputs": [
    {
     "name": "stdout",
     "output_type": "stream",
     "text": [
      "Using config file at: C:\\Users\\ywant\\Downloads\\open-data-pvnet-main\\open-data-pvnet-main\\src\\open_data_pvnet\\configs\\dwd_data_config.yaml\n"
     ]
    }
   ],
   "source": [
    "from pathlib import Path\n",
    "\n",
    "# Manually set the correct config path\n",
    "config_path = Path(r\"C:\\Users\\ywant\\Downloads\\open-data-pvnet-main\\open-data-pvnet-main\\src\\open_data_pvnet\\configs\\dwd_data_config.yaml\")\n",
    "\n",
    "print(f\"Using config file at: {config_path}\")\n",
    "\n",
    "# Check if the path exists before proceeding\n",
    "if not config_path.exists():\n",
    "    raise FileNotFoundError(f\"Config file not found: {config_path}\")"
   ]
  },
  {
   "cell_type": "code",
   "execution_count": null,
   "id": "9235f269-75c3-4569-a145-33d4d58fe092",
   "metadata": {},
   "outputs": [],
   "source": []
  }
 ],
 "metadata": {
  "kernelspec": {
   "display_name": "Python 3 (ipykernel)",
   "language": "python",
   "name": "python3"
  },
  "language_info": {
   "codemirror_mode": {
    "name": "ipython",
    "version": 3
   },
   "file_extension": ".py",
   "mimetype": "text/x-python",
   "name": "python",
   "nbconvert_exporter": "python",
   "pygments_lexer": "ipython3",
   "version": "3.9.21"
  }
 },
 "nbformat": 4,
 "nbformat_minor": 5
}
